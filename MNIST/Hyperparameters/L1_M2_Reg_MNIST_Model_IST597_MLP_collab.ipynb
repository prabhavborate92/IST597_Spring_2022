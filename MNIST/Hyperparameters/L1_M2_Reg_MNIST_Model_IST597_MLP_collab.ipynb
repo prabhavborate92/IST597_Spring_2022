{
  "nbformat": 4,
  "nbformat_minor": 0,
  "metadata": {
    "colab": {
      "name": "L1_M2_Reg_MNIST_Model_IST597_MLP_collab.ipynb",
      "provenance": [],
      "collapsed_sections": [],
      "include_colab_link": true
    },
    "kernelspec": {
      "name": "python3",
      "display_name": "Python 3"
    },
    "accelerator": "GPU"
  },
  "cells": [
    {
      "cell_type": "markdown",
      "metadata": {
        "id": "view-in-github",
        "colab_type": "text"
      },
      "source": [
        "<a href=\"https://colab.research.google.com/github/prabhavborate92/IST597_Spring_2022/blob/main/MNIST/Hyperparameters/L1_M2_Reg_MNIST_Model_IST597_MLP_collab.ipynb\" target=\"_parent\"><img src=\"https://colab.research.google.com/assets/colab-badge.svg\" alt=\"Open In Colab\"/></a>"
      ]
    },
    {
      "cell_type": "markdown",
      "metadata": {
        "id": "71kdFp0QgF4K"
      },
      "source": [
        "# IST597:- Multi-Layer Perceptron Assignment :- pgb5080@psu.edu"
      ]
    },
    {
      "cell_type": "markdown",
      "metadata": {
        "id": "C2yHcl5xgPV1"
      },
      "source": [
        "## Load the libraries"
      ]
    },
    {
      "cell_type": "code",
      "metadata": {
        "id": "2DPwxLR2gSLC"
      },
      "source": [
        "import os\n",
        "import numpy as np\n",
        "import pandas as pd\n",
        "import time\n",
        "import tensorflow as tf\n",
        "import matplotlib.pyplot as plt\n",
        "from math import sqrt\n",
        "from sklearn.model_selection import train_test_split\n",
        "np.random.seed(5080)\n",
        "tf.random.set_seed(5080)"
      ],
      "execution_count": null,
      "outputs": []
    },
    {
      "cell_type": "markdown",
      "metadata": {
        "id": "7Dk_S2TMg_6_"
      },
      "source": [
        "## Load MNIST Data\n"
      ]
    },
    {
      "cell_type": "code",
      "source": [
        "# # Load Data\n",
        "mnist = tf.keras.datasets.mnist.load_data()"
      ],
      "metadata": {
        "id": "3GkQ7thks4ZF",
        "colab": {
          "base_uri": "https://localhost:8080/"
        },
        "outputId": "3031b6f4-7150-40ad-8a18-5018b3ef2b7c"
      },
      "execution_count": null,
      "outputs": [
        {
          "output_type": "stream",
          "name": "stdout",
          "text": [
            "Downloading data from https://storage.googleapis.com/tensorflow/tf-keras-datasets/mnist.npz\n",
            "11493376/11490434 [==============================] - 0s 0us/step\n",
            "11501568/11490434 [==============================] - 0s 0us/step\n"
          ]
        }
      ]
    },
    {
      "cell_type": "code",
      "source": [
        "# Split Data\n",
        "\n",
        "train_ratio = 0.80\n",
        "validation_ratio = 0.10\n",
        "test_ratio = 0.10\n",
        "\n",
        "(X_train, y_train), (X_test, y_test) = mnist\n",
        "\n",
        "X = np.concatenate([X_train, X_test])\n",
        "y = np.concatenate([y_train, y_test])\n",
        "\n",
        "X_train, X_val, y_train, y_val = train_test_split(X, y, test_size=(1-train_ratio))\n",
        "X_val, X_test, y_val, y_test = train_test_split(X_val, y_val, test_size=((test_ratio/(validation_ratio+test_ratio))))\n"
      ],
      "metadata": {
        "id": "ZxaBc7LW9bDH"
      },
      "execution_count": null,
      "outputs": []
    },
    {
      "cell_type": "code",
      "source": [
        "# Display Sample Data\n",
        "\n",
        "indices = list(np.random.randint(X_train.shape[0],size=3))\n",
        "for i in range(3):\n",
        "    plt.subplot(1,3,i+1)\n",
        "    plt.imshow(X_train[indices[i]].reshape(28,28), cmap='gray', interpolation='none')\n",
        "    plt.title(\"Index {} Class {}\".format(indices[i], y_train[indices[i]]))\n",
        "    plt.tight_layout()"
      ],
      "metadata": {
        "colab": {
          "base_uri": "https://localhost:8080/",
          "height": 166
        },
        "id": "J0U2CSfG6Wwf",
        "outputId": "0a3a651c-9315-4262-9c1e-a872130d2fa9"
      },
      "execution_count": null,
      "outputs": [
        {
          "output_type": "display_data",
          "data": {
            "image/png": "[encoded data removed]",
            "text/plain": [
              "<Figure size 432x288 with 3 Axes>"
            ]
          },
          "metadata": {
            "needs_background": "light"
          }
        }
      ]
    },
    {
      "cell_type": "code",
      "source": [
        "# Print Size\n",
        "print(\"X_train Size:\" + str(X_train.shape))\n",
        "print(\"X_val Size:\" + str(X_val.shape))\n",
        "print(\"X_test Size:\" + str(X_test.shape))\n",
        "\n",
        "print(\"y_train Size:\" + str(y_train.shape))\n",
        "print(\"y_val Size:\" + str(y_val.shape))\n",
        "print(\"y_test Size:\" + str(y_test.shape))"
      ],
      "metadata": {
        "colab": {
          "base_uri": "https://localhost:8080/"
        },
        "id": "jVQXQ1vyBNEc",
        "outputId": "846eb1bb-6235-4724-8ab3-bc3a27f2e3bf"
      },
      "execution_count": null,
      "outputs": [
        {
          "output_type": "stream",
          "name": "stdout",
          "text": [
            "X_train Size:(56000, 28, 28)\n",
            "X_val Size:(7000, 28, 28)\n",
            "X_test Size:(7000, 28, 28)\n",
            "y_train Size:(56000,)\n",
            "y_val Size:(7000,)\n",
            "y_test Size:(7000,)\n"
          ]
        }
      ]
    },
    {
      "cell_type": "code",
      "source": [
        "# Reshape Input Data\n",
        "X_train = np.reshape(X_train,(X_train.shape[0],X_train.shape[1]*X_train.shape[2]))\n",
        "X_val = np.reshape(X_val,(X_val.shape[0],X_val.shape[1]*X_val.shape[2]))\n",
        "X_test = np.reshape(X_test,(X_test.shape[0],X_test.shape[1]*X_test.shape[2]))\n",
        "\n",
        "print(\"X_train Size:\" + str(X_train.shape))\n",
        "print(\"X_val Size:\" + str(X_val.shape))\n",
        "print(\"X_test Size:\" + str(X_test.shape))"
      ],
      "metadata": {
        "colab": {
          "base_uri": "https://localhost:8080/"
        },
        "id": "z2Lrm4QtHGJP",
        "outputId": "d9c43a87-7e2a-408a-b6c2-0abfc2b749bf"
      },
      "execution_count": null,
      "outputs": [
        {
          "output_type": "stream",
          "name": "stdout",
          "text": [
            "X_train Size:(56000, 784)\n",
            "X_val Size:(7000, 784)\n",
            "X_test Size:(7000, 784)\n"
          ]
        }
      ]
    },
    {
      "cell_type": "code",
      "source": [
        "# Rescale data \n",
        "X_train=tf.cast(X_train,dtype=tf.float32)\n",
        "X_val=tf.cast(X_val,dtype=tf.float32)\n",
        "X_test=tf.cast(X_test,dtype=tf.float32)\n",
        "X_train=X_train/255.0\n",
        "X_val=X_val/255.0\n",
        "X_test=X_test/255.0"
      ],
      "metadata": {
        "id": "nnLQo1pGQq5r"
      },
      "execution_count": null,
      "outputs": []
    },
    {
      "cell_type": "code",
      "source": [
        "# Details of input & output data\n",
        "\n",
        "print(\"Training input data range: \\nFrom \" + str(np.min(X_train)) + \" to \" + str(np.max(X_train)))\n",
        "print(\"Validation input data range: \\nFrom \" + str(np.min(X_val)) + \" to \" + str(np.max(X_val)))\n",
        "print(\"Testing input data range: \\nFrom \" + str(np.min(X_test)) + \" to \" + str(np.max(X_test)))\n",
        "\n",
        "print(\"\\nTraining target data: \")\n",
        "print(set(list(y_train)))\n",
        "\n",
        "print(\"\\nValidation target data: \")\n",
        "print(set(list(y_val)))\n",
        "\n",
        "print(\"\\nTesting target data: \")\n",
        "print(set(list(y_test)))"
      ],
      "metadata": {
        "colab": {
          "base_uri": "https://localhost:8080/"
        },
        "id": "bsUMeChpIx3-",
        "outputId": "5879fb84-8127-4bc3-df1b-320f8b422167"
      },
      "execution_count": null,
      "outputs": [
        {
          "output_type": "stream",
          "name": "stdout",
          "text": [
            "Training input data range: \n",
            "From 0.0 to 1.0\n",
            "Validation input data range: \n",
            "From 0.0 to 1.0\n",
            "Testing input data range: \n",
            "From 0.0 to 1.0\n",
            "\n",
            "Training target data: \n",
            "{0, 1, 2, 3, 4, 5, 6, 7, 8, 9}\n",
            "\n",
            "Validation target data: \n",
            "{0, 1, 2, 3, 4, 5, 6, 7, 8, 9}\n",
            "\n",
            "Testing target data: \n",
            "{0, 1, 2, 3, 4, 5, 6, 7, 8, 9}\n"
          ]
        }
      ]
    },
    {
      "cell_type": "code",
      "source": [
        "# Split Data\n",
        "size_input = X_train.shape[1] # Input size\n",
        "Input_layer_size =  X_train.shape[1] # Input size\n",
        "size_hidden1 = 512 # Hidden neuron in first layer\n",
        "size_hidden2 = 256 # Hidden neuron in second layer\n",
        "size_output = 10 # Number of classes (target)\n",
        "\n",
        "y_train=tf.keras.utils.to_categorical(y_train,size_output)\n",
        "y_val=tf.keras.utils.to_categorical(y_val,size_output)\n",
        "y_test=tf.keras.utils.to_categorical(y_test,size_output)"
      ],
      "metadata": {
        "id": "3_KwZ38eyNQY"
      },
      "execution_count": null,
      "outputs": []
    },
    {
      "cell_type": "code",
      "source": [
        "# Print \n",
        "\n",
        "print(\"y_train: \",y_train)\n",
        "print(\"y_val: \",y_val)\n",
        "print(\"y_test: \",y_test)"
      ],
      "metadata": {
        "colab": {
          "base_uri": "https://localhost:8080/"
        },
        "id": "QAlVM_Mo2YKV",
        "outputId": "d889c128-b761-4e69-eae1-1c1d823b59b7"
      },
      "execution_count": null,
      "outputs": [
        {
          "output_type": "stream",
          "name": "stdout",
          "text": [
            "y_train:  [[0. 0. 0. ... 1. 0. 0.]\n",
            " [0. 0. 0. ... 0. 1. 0.]\n",
            " [0. 0. 0. ... 0. 0. 0.]\n",
            " ...\n",
            " [0. 0. 0. ... 0. 1. 0.]\n",
            " [0. 0. 0. ... 0. 0. 0.]\n",
            " [0. 0. 0. ... 0. 0. 1.]]\n",
            "y_val:  [[0. 0. 0. ... 0. 0. 0.]\n",
            " [1. 0. 0. ... 0. 0. 0.]\n",
            " [0. 0. 0. ... 0. 0. 0.]\n",
            " ...\n",
            " [0. 0. 0. ... 0. 1. 0.]\n",
            " [0. 0. 0. ... 0. 0. 1.]\n",
            " [0. 0. 1. ... 0. 0. 0.]]\n",
            "y_test:  [[0. 0. 0. ... 0. 1. 0.]\n",
            " [0. 0. 0. ... 0. 1. 0.]\n",
            " [0. 0. 0. ... 0. 0. 0.]\n",
            " ...\n",
            " [1. 0. 0. ... 0. 0. 0.]\n",
            " [0. 0. 1. ... 0. 0. 0.]\n",
            " [0. 0. 0. ... 0. 1. 0.]]\n"
          ]
        }
      ]
    },
    {
      "cell_type": "code",
      "metadata": {
        "id": "aigqKFFF5BM2",
        "colab": {
          "base_uri": "https://localhost:8080/"
        },
        "outputId": "b2e3a44f-3c31-4e3d-c31f-a56107361bae"
      },
      "source": [
        "# Split dataset into batches\n",
        "train_ds = tf.data.Dataset.from_tensor_slices((X_train, y_train)).batch(16)\n",
        "val_ds = tf.data.Dataset.from_tensor_slices((X_val, y_val)).batch(2)\n",
        "test_ds = tf.data.Dataset.from_tensor_slices((X_test, y_test)).batch(2)\n",
        "print(\"train_ds:\",train_ds)\n",
        "print(\"train_ds:\",val_ds)\n",
        "print(\"test_ds:\",test_ds)"
      ],
      "execution_count": null,
      "outputs": [
        {
          "output_type": "stream",
          "name": "stdout",
          "text": [
            "train_ds: <BatchDataset shapes: ((None, 784), (None, 10)), types: (tf.float32, tf.float32)>\n",
            "train_ds: <BatchDataset shapes: ((None, 784), (None, 10)), types: (tf.float32, tf.float32)>\n",
            "test_ds: <BatchDataset shapes: ((None, 784), (None, 10)), types: (tf.float32, tf.float32)>\n"
          ]
        }
      ]
    },
    {
      "cell_type": "markdown",
      "metadata": {
        "id": "Eb4hOoVbnzSJ"
      },
      "source": [
        "## Build MLP using Eager Execution"
      ]
    },
    {
      "cell_type": "code",
      "metadata": {
        "id": "Ht9_qpYipgHw"
      },
      "source": [
        "# Define class to build mlp model\n",
        "class MLP(object):\n",
        "  def __init__(self, Input_layer_size, size_input, size_hidden1, size_hidden2, size_output, device=None):\n",
        "    \"\"\"\n",
        "    size_input: int, size of input layer\n",
        "    size_hidden: int, size of hidden layer\n",
        "    size_output: int, size of output layer\n",
        "    device: str or None, either 'cpu' or 'gpu' or None. If None, the device to be used will be decided automatically during Eager Execution\n",
        "    \"\"\"\n",
        "    self.size_input, self.Input_layer_size, self.size_hidden1, self.size_hidden2, self.size_output, self.device =\\\n",
        "    size_input, Input_layer_size, size_hidden1, size_hidden2, size_output, device\n",
        "    \n",
        "    # Initialize weights for inputs\n",
        "    self.W1 = tf.Variable(tf.random.normal([self.size_input, self.Input_layer_size]))\n",
        "    # Initialize biases for hidden layer\n",
        "    self.b1 = tf.Variable(tf.random.normal([1, self.Input_layer_size]))\n",
        "\n",
        "    # Initialize weights between input layer and hidden layer 1\n",
        "    self.W2 = tf.Variable(tf.random.normal([self.Input_layer_size, self.size_hidden1]))\n",
        "    # Initialize biases for hidden layer\n",
        "    self.b2 = tf.Variable(tf.random.normal([1, self.size_hidden1]))\n",
        "\n",
        "    # Initialize weights between hidden layer 1 and hidden layer 2\n",
        "    self.W3 = tf.Variable(tf.random.normal([self.size_hidden1, self.size_hidden2]))\n",
        "    # Initialize biases for hidden2 layer\n",
        "    self.b3 = tf.Variable(tf.random.normal([1, self.size_hidden2]))\n",
        "\n",
        "     # Initialize weights between hidden layer 2 and output layer\n",
        "    self.W4 = tf.Variable(tf.random.normal([self.size_hidden2, self.size_output]))\n",
        "    # Initialize biases for output layer\n",
        "    self.b4 = tf.Variable(tf.random.normal([1, self.size_output]))\n",
        "    \n",
        "    # Define variables to be updated during backpropagation\n",
        "    self.variables = [self.W1, self.W2, self.W3, self.W4, self.b1, self.b2, self.b3, self.b4]\n",
        "    \n",
        "  def forward(self, X):\n",
        "    \"\"\"\n",
        "    forward pass\n",
        "    X: Tensor, inputs\n",
        "    \"\"\"\n",
        "    if self.device is not None:\n",
        "      with tf.device('gpu:0' if self.device=='gpu' else 'cpu'):\n",
        "        self.y = self.compute_output(X)\n",
        "    else:\n",
        "      self.y = self.compute_output(X)\n",
        "      \n",
        "    return self.y\n",
        "  \n",
        "  def loss(self, y_pred, y_true):\n",
        "    '''\n",
        "    y_pred - Tensor of shape (batch_size, size_output)\n",
        "    y_true - Tensor of shape (batch_size, size_output)\n",
        "    '''\n",
        "    y_true_tf = tf.cast(tf.reshape(y_true, (-1, self.size_output)), dtype=tf.float32)\n",
        "    y_pred_tf = tf.cast(y_pred, dtype=tf.float32)\n",
        "    return tf.losses.categorical_crossentropy(y_true_tf, y_pred_tf)\n",
        "  \n",
        "  def backward(self, X_train, y_train):\n",
        "    \"\"\"\n",
        "    backward pass\n",
        "    \"\"\"\n",
        "    optimizer = tf.keras.optimizers.SGD(learning_rate=1e-3)\n",
        "    with tf.GradientTape() as tape:\n",
        "      predicted = self.forward(X_train)\n",
        "      reg = (tf.reduce_sum(tf.abs(self.W1)) + tf.reduce_sum(tf.abs(self.W2)) + tf.reduce_sum(tf.abs(self.W3))+tf.reduce_sum(tf.abs(self.W4))) # L1 penalty \n",
        "      current_loss = self.loss(predicted, y_train) + 0.05*reg\n",
        "    grads = tape.gradient(current_loss, self.variables)\n",
        "    optimizer.apply_gradients(zip(grads, self.variables))\n",
        "        \n",
        "        \n",
        "  def compute_output(self, X):\n",
        "    \"\"\"\n",
        "    Custom method to obtain output tensor during forward pass\n",
        "    \"\"\"\n",
        "    # Cast X to float32\n",
        "    X_tf = tf.cast(X, dtype=tf.float32)\n",
        "    # Compute values in input\n",
        "    what1 = tf.matmul(X_tf, self.W1) + self.b1\n",
        "    hhat1 = tf.nn.relu(what1)\n",
        "    # Compute values in hidden layer 1\n",
        "    what2 = tf.matmul(hhat1, self.W2) + self.b2\n",
        "    hhat2 = tf.nn.relu(what2)\n",
        "    # Compute values in hidden layer 2\n",
        "    what3 = tf.matmul(hhat2, self.W3) + self.b3\n",
        "    hhat3 = tf.nn.relu(what3)\n",
        "    # Compute output\n",
        "    output = tf.matmul(hhat3, self.W4) + self.b4\n",
        "    output = tf.nn.softmax(output)\n",
        "    return output\n",
        "  \n",
        " # Calculate standard error\n",
        "  def stderr(self,y_pred):\n",
        "    y_pred_tf = tf.cast(y_pred, dtype=tf.float32)\n",
        "    std_dev = np.std(y_pred_tf) #Calculates standard deviation\n",
        "    std_err = std_dev/sqrt(len(y_pred_tf))\n",
        "    return std_err \n",
        "\n",
        " # Calculate variance error\n",
        "  def var(self,y_pred):\n",
        "    y_pred_tf = tf.cast(y_pred, dtype=tf.float32)\n",
        "    std_dev = np.std(y_pred_tf) #Calculates standard deviation\n",
        "    variance = (std_dev**2) # calculate variance\n",
        "    return variance     \n",
        "      "
      ],
      "execution_count": null,
      "outputs": []
    },
    {
      "cell_type": "markdown",
      "metadata": {
        "id": "cUDFOuNk618X"
      },
      "source": [
        "## Train Model:"
      ]
    },
    {
      "cell_type": "code",
      "source": [
        "# Set number of epochs\n",
        "NUM_EPOCHS = 10\n",
        "\n",
        "# Initialize model using CPU\n",
        "mlp_on_cpu = MLP(size_input, Input_layer_size, size_hidden1, size_hidden2, size_output, device='cpu')\n",
        "time_start = time.time()\n",
        "for epoch in range(NUM_EPOCHS):\n",
        "  loss_total = tf.zeros([1,1], dtype=tf.float32)\n",
        "  lt = 0\n",
        "  train_ds = tf.data.Dataset.from_tensor_slices((X_train, y_train)).shuffle(25, seed=epoch*(5080)).batch(20)\n",
        "  for inputs, outputs in train_ds:\n",
        "    preds = mlp_on_cpu.forward(inputs)\n",
        "    loss_total = loss_total + mlp_on_cpu.loss(preds, outputs)\n",
        "    lt = lt + mlp_on_cpu.loss(preds, outputs)\n",
        "    mlp_on_cpu.backward(inputs, outputs)\n",
        "  print('Number of Epoch = {} - Average Cross Entropy:= {}'.format(epoch + 1, np.sum(loss_total)/X_train.shape[0]))\n",
        "time_taken = time.time() - time_start\n",
        "\n",
        "print('\\nTotal time taken (in seconds): {:.2f}'.format(time_taken))"
      ],
      "metadata": {
        "colab": {
          "base_uri": "https://localhost:8080/"
        },
        "id": "ZuJhbBmPF_gt",
        "outputId": "3cac5407-854b-430a-86cc-1accad5bed6d"
      },
      "execution_count": null,
      "outputs": [
        {
          "output_type": "stream",
          "name": "stdout",
          "text": [
            "Number of Epoch = 1 - Average Cross Entropy:= 11.1299140625\n",
            "Number of Epoch = 2 - Average Cross Entropy:= 2.3145181361607143\n",
            "Number of Epoch = 3 - Average Cross Entropy:= 2.3188929966517855\n",
            "Number of Epoch = 4 - Average Cross Entropy:= 2.3161636439732143\n",
            "Number of Epoch = 5 - Average Cross Entropy:= 2.315559151785714\n",
            "Number of Epoch = 6 - Average Cross Entropy:= 2.314389090401786\n",
            "Number of Epoch = 7 - Average Cross Entropy:= 2.313458426339286\n",
            "Number of Epoch = 8 - Average Cross Entropy:= 2.313257393973214\n",
            "Number of Epoch = 9 - Average Cross Entropy:= 2.3128168247767857\n",
            "Number of Epoch = 10 - Average Cross Entropy:= 2.3122816685267855\n",
            "\n",
            "Total time taken (in seconds): 1258.60\n"
          ]
        }
      ]
    },
    {
      "cell_type": "markdown",
      "metadata": {
        "id": "PXe-2MENCOjq"
      },
      "source": [
        "## One Step Inference: Validation\n",
        "\n",
        "\n",
        "\n"
      ]
    },
    {
      "cell_type": "code",
      "metadata": {
        "colab": {
          "base_uri": "https://localhost:8080/"
        },
        "outputId": "1ac6c501-0f96-4cb9-a412-aa1ac1c3c848",
        "id": "CQoIf58OTRTE"
      },
      "source": [
        "# Initialize\n",
        "test_loss_total = tf.Variable(0, dtype=tf.float32)\n",
        "acc_preds = tf.Variable(0,dtype=tf.float32)\n",
        "acc = tf.Variable(0, dtype=tf.float32)\n",
        "\n",
        "# Calculate\n",
        "for inputs, outputs in val_ds:\n",
        "\n",
        "  preds = mlp_on_cpu.forward(inputs) # Prediction\n",
        "  test_loss_total = test_loss_total + mlp_on_cpu.loss(preds,outputs) # Loss\n",
        "  standard_error = mlp_on_cpu.stderr(preds) # Standard error\n",
        "  Variance = mlp_on_cpu.var(preds) # Variance\n",
        "\n",
        "  for i in range(preds.shape[0]):\n",
        "    if tf.argmax(preds[i])==tf.argmax(outputs[i]):\n",
        "      acc_preds = acc_preds + 1.0\n",
        "acc = (acc_preds/X_test.shape[0])*100.0\n",
        "print('Inference 1st')\n",
        "print('Val Loss: {:.4f}'.format(np.sum(test_loss_total.numpy())/X_train.shape[0]))\n",
        "print('Accuracy: {:.4f}'.format(acc))\n",
        "print('Standard Error: {:.4f}'.format(standard_error))\n",
        "print('Variance: {:.4f}'.format(Variance))"
      ],
      "execution_count": null,
      "outputs": [
        {
          "output_type": "stream",
          "name": "stdout",
          "text": [
            "Inference 1st\n",
            "Val Loss: 0.2904\n",
            "Accuracy: 9.8857\n",
            "Standard Error: 0.0145\n",
            "Variance: 0.0004\n"
          ]
        }
      ]
    },
    {
      "cell_type": "markdown",
      "source": [
        "## One Step Inference: Testing"
      ],
      "metadata": {
        "id": "IoYcVvKETNpD"
      }
    },
    {
      "cell_type": "code",
      "metadata": {
        "id": "EKxWn7CNDVN5",
        "colab": {
          "base_uri": "https://localhost:8080/"
        },
        "outputId": "2a02af47-3811-4049-a9cf-9bf938ece3d9"
      },
      "source": [
        "# Initialize\n",
        "test_loss_total = tf.Variable(0, dtype=tf.float32)\n",
        "acc_preds = tf.Variable(0,dtype=tf.float32)\n",
        "acc = tf.Variable(0, dtype=tf.float32)\n",
        "\n",
        "# Calculate\n",
        "for inputs, outputs in test_ds:\n",
        "\n",
        "  preds = mlp_on_cpu.forward(inputs) # Prediction\n",
        "  test_loss_total = test_loss_total + mlp_on_cpu.loss(preds,outputs) # Loss\n",
        "  standard_error = mlp_on_cpu.stderr(preds) # Standard error\n",
        "  Variance = mlp_on_cpu.var(preds) # Variance\n",
        "\n",
        "  for i in range(preds.shape[0]):\n",
        "    if tf.argmax(preds[i])==tf.argmax(outputs[i]):\n",
        "      acc_preds = acc_preds + 1.0\n",
        "acc = (acc_preds/X_test.shape[0])*100.0\n",
        "print('Inference 1st')\n",
        "print('Test Loss: {:.4f}'.format(np.sum(test_loss_total.numpy())/X_train.shape[0]))\n",
        "print('Accuracy: {:.4f}'.format(acc))\n",
        "print('Standard Error: {:.4f}'.format(standard_error))\n",
        "print('Variance: {:.4f}'.format(Variance))"
      ],
      "execution_count": null,
      "outputs": [
        {
          "output_type": "stream",
          "name": "stdout",
          "text": [
            "Inference 1st\n",
            "Test Loss: 0.2905\n",
            "Accuracy: 9.8429\n",
            "Standard Error: 0.0145\n",
            "Variance: 0.0004\n"
          ]
        }
      ]
    },
    {
      "cell_type": "code",
      "source": [
        ""
      ],
      "metadata": {
        "id": "_gpODqbnTVKk"
      },
      "execution_count": null,
      "outputs": []
    }
  ]
}